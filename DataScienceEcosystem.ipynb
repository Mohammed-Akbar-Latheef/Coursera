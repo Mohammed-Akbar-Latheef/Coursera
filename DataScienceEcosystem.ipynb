{
  "nbformat": 4,
  "nbformat_minor": 0,
  "metadata": {
    "colab": {
      "provenance": []
    },
    "kernelspec": {
      "name": "python3",
      "display_name": "Python 3"
    },
    "language_info": {
      "name": "python"
    }
  },
  "cells": [
    {
      "cell_type": "markdown",
      "source": [
        "### Data Science Tools and Ecosystem ###"
      ],
      "metadata": {
        "id": "Vilgm1eoP_E-"
      }
    },
    {
      "cell_type": "code",
      "source": [],
      "metadata": {
        "id": "AdYaT09BQAdZ"
      },
      "execution_count": null,
      "outputs": []
    },
    {
      "cell_type": "markdown",
      "source": [
        "### In this notebook, Data Science Tools and Ecosystem are summarized ###"
      ],
      "metadata": {
        "id": "a77SC267QkqG"
      }
    },
    {
      "cell_type": "markdown",
      "source": [
        "### Objectives ###\n",
        "\n",
        "*   Data Science Language\n",
        "*   Data Sciene Tools and Ecosystem\n",
        "*   Data Science Library\n",
        "*   Code to add and multiply integers\n",
        "*   Code to convert minutes to hours\n",
        "\n",
        "\n",
        "\n",
        "\n",
        "\n"
      ],
      "metadata": {
        "id": "9dZ_j9tRaDoo"
      }
    },
    {
      "cell_type": "markdown",
      "source": [
        "### Data Science Language ###\n",
        "\n",
        "*   Python\n",
        "*   R\n",
        "*   SQL\n",
        "\n",
        "\n",
        "\n"
      ],
      "metadata": {
        "id": "QnT2K95KRDFh"
      }
    },
    {
      "cell_type": "markdown",
      "source": [
        "### Data Science Library ###\n",
        "\n",
        "*   Numpy\n",
        "*   Pandas\n",
        "*   Sci-kit learn\n",
        "\n",
        "\n",
        "\n",
        "\n"
      ],
      "metadata": {
        "id": "Oc7XwTIISCR-"
      }
    },
    {
      "cell_type": "code",
      "source": [
        "\n"
      ],
      "metadata": {
        "id": "Utm8JU5yRSJb"
      },
      "execution_count": null,
      "outputs": []
    },
    {
      "cell_type": "markdown",
      "source": [
        "### Data Science Tools ###\n",
        "| Data Science Tools|\n",
        "| --- |\n",
        "| VS Code |\n",
        "| Hadoop |\n",
        "| Apache spark |"
      ],
      "metadata": {
        "id": "VXmYzz47SrSL"
      }
    },
    {
      "cell_type": "code",
      "source": [],
      "metadata": {
        "id": "gHi3usjSTQE2"
      },
      "execution_count": null,
      "outputs": []
    },
    {
      "cell_type": "markdown",
      "source": [
        "### Below are a few examples of evaluating arithmetic expressions in Python ###"
      ],
      "metadata": {
        "id": "i1J4F1xVWCbY"
      }
    },
    {
      "cell_type": "code",
      "source": [
        "#This a simple arithmetic expression to mutiply then add integers.\n",
        "print((3*4)+5)"
      ],
      "metadata": {
        "colab": {
          "base_uri": "https://localhost:8080/"
        },
        "id": "Av3_-h13WpVK",
        "outputId": "562654ef-7923-4cd4-ef8f-da402a2a4f26"
      },
      "execution_count": 5,
      "outputs": [
        {
          "output_type": "stream",
          "name": "stdout",
          "text": [
            "17\n"
          ]
        }
      ]
    },
    {
      "cell_type": "code",
      "source": [
        "# This will convert 200 minutes to hours by diving by 60.\n",
        "a = 200\n",
        "b = 60\n",
        "print('200 mins into hours:',a/b)"
      ],
      "metadata": {
        "colab": {
          "base_uri": "https://localhost:8080/"
        },
        "id": "WNj7SkJXWxQB",
        "outputId": "fff3f0af-1e40-4d7d-959b-7562281a6ec6"
      },
      "execution_count": 6,
      "outputs": [
        {
          "output_type": "stream",
          "name": "stdout",
          "text": [
            "200 mins into hours: 3.3333333333333335\n"
          ]
        }
      ]
    },
    {
      "cell_type": "markdown",
      "source": [
        "### Author ###\n",
        "Akbar"
      ],
      "metadata": {
        "id": "LSEPoxZjbQ78"
      }
    }
  ]
}